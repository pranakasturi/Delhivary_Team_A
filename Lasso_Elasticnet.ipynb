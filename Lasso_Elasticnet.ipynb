{
 "cells": [
  {
   "cell_type": "code",
   "execution_count": 9,
   "id": "868cca14",
   "metadata": {},
   "outputs": [],
   "source": [
    "import pandas as pd\n",
    "import numpy as np\n",
    "from sklearn.linear_model import Ridge, Lasso, ElasticNet\n",
    "from sklearn.metrics import mean_squared_error, mean_absolute_error, r2_score\n",
    "from sklearn.preprocessing import LabelEncoder, StandardScaler\n",
    "\n",
    "# Load CSV\n",
    "df = pd.read_csv(\"selected_features_dataset.csv\")"
   ]
  },
  {
   "cell_type": "code",
   "execution_count": 10,
   "id": "f26eb984",
   "metadata": {},
   "outputs": [],
   "source": [
    "# Columns in your data: source_city, destination_city, is_cutoff, data (categorical)\n",
    "label_cols = ['source_city', 'destination_city', 'is_cutoff', 'data']\n",
    "for col in label_cols:\n",
    "    df[col] = LabelEncoder().fit_transform(df[col])"
   ]
  },
  {
   "cell_type": "code",
   "execution_count": 11,
   "id": "4f20883d",
   "metadata": {},
   "outputs": [],
   "source": [
    "# Define features and target\n",
    "X = df.drop(columns=['segment_actual_time'])\n",
    "y = df['segment_actual_time']"
   ]
  },
  {
   "cell_type": "code",
   "execution_count": 12,
   "id": "cb3fe6c1",
   "metadata": {},
   "outputs": [],
   "source": [
    "# Split based on 'data' column (as in final Ridge file)\n",
    "X_train = X[df['data'] == 1].drop(columns=['data'])\n",
    "X_test = X[df['data'] == 0].drop(columns=['data'])\n",
    "y_train = y[df['data'] == 1]\n",
    "y_test = y[df['data'] == 0]"
   ]
  },
  {
   "cell_type": "code",
   "execution_count": 13,
   "id": "6575c13f",
   "metadata": {},
   "outputs": [],
   "source": [
    "# Scale the features\n",
    "scaler = StandardScaler()\n",
    "X_train_scaled = scaler.fit_transform(X_train)\n",
    "X_test_scaled = scaler.transform(X_test)"
   ]
  },
  {
   "cell_type": "code",
   "execution_count": 14,
   "id": "1056f731",
   "metadata": {},
   "outputs": [],
   "source": [
    "# Evaluation function\n",
    "def evaluate_model(y_true, y_pred, model_name):\n",
    "    return {\n",
    "        \"Model\": model_name,\n",
    "        \"R2 Score\": round(r2_score(y_true, y_pred), 4),\n",
    "        \"RMSE\": round(np.sqrt(mean_squared_error(y_true, y_pred)), 4),\n",
    "        \"MAE\": round(mean_absolute_error(y_true, y_pred), 4)\n",
    "    }\n"
   ]
  },
  {
   "cell_type": "code",
   "execution_count": 15,
   "id": "ac2efe79",
   "metadata": {},
   "outputs": [
    {
     "data": {
      "text/html": [
       "<div>\n",
       "<style scoped>\n",
       "    .dataframe tbody tr th:only-of-type {\n",
       "        vertical-align: middle;\n",
       "    }\n",
       "\n",
       "    .dataframe tbody tr th {\n",
       "        vertical-align: top;\n",
       "    }\n",
       "\n",
       "    .dataframe thead th {\n",
       "        text-align: right;\n",
       "    }\n",
       "</style>\n",
       "<table border=\"1\" class=\"dataframe\">\n",
       "  <thead>\n",
       "    <tr style=\"text-align: right;\">\n",
       "      <th></th>\n",
       "      <th>Model</th>\n",
       "      <th>R2 Score</th>\n",
       "      <th>RMSE</th>\n",
       "      <th>MAE</th>\n",
       "    </tr>\n",
       "  </thead>\n",
       "  <tbody>\n",
       "    <tr>\n",
       "      <th>0</th>\n",
       "      <td>Ridge Regression</td>\n",
       "      <td>0.4282</td>\n",
       "      <td>0.7046</td>\n",
       "      <td>0.2100</td>\n",
       "    </tr>\n",
       "    <tr>\n",
       "      <th>1</th>\n",
       "      <td>Lasso Regression</td>\n",
       "      <td>0.3832</td>\n",
       "      <td>0.7318</td>\n",
       "      <td>0.2204</td>\n",
       "    </tr>\n",
       "    <tr>\n",
       "      <th>2</th>\n",
       "      <td>ElasticNet Regression</td>\n",
       "      <td>0.4006</td>\n",
       "      <td>0.7214</td>\n",
       "      <td>0.2143</td>\n",
       "    </tr>\n",
       "  </tbody>\n",
       "</table>\n",
       "</div>"
      ],
      "text/plain": [
       "                   Model  R2 Score    RMSE     MAE\n",
       "0       Ridge Regression    0.4282  0.7046  0.2100\n",
       "1       Lasso Regression    0.3832  0.7318  0.2204\n",
       "2  ElasticNet Regression    0.4006  0.7214  0.2143"
      ]
     },
     "execution_count": 15,
     "metadata": {},
     "output_type": "execute_result"
    }
   ],
   "source": [
    "\n",
    "# Train and evaluate all models\n",
    "results = []\n",
    "\n",
    "ridge = Ridge(alpha=1.0)\n",
    "ridge.fit(X_train_scaled, y_train)\n",
    "results.append(evaluate_model(y_test, ridge.predict(X_test_scaled), \"Ridge Regression\"))\n",
    "\n",
    "lasso = Lasso(alpha=0.1)\n",
    "lasso.fit(X_train_scaled, y_train)\n",
    "results.append(evaluate_model(y_test, lasso.predict(X_test_scaled), \"Lasso Regression\"))\n",
    "\n",
    "elastic = ElasticNet(alpha=0.1, l1_ratio=0.5)\n",
    "elastic.fit(X_train_scaled, y_train)\n",
    "results.append(evaluate_model(y_test, elastic.predict(X_test_scaled), \"ElasticNet Regression\"))\n",
    "\n",
    "# Display comparison table\n",
    "pd.DataFrame(results)"
   ]
  },
  {
   "cell_type": "code",
   "execution_count": 16,
   "id": "676f0203",
   "metadata": {},
   "outputs": [
    {
     "name": "stderr",
     "output_type": "stream",
     "text": [
      "C:\\Users\\Devendra Garwa\\AppData\\Local\\Temp\\ipykernel_22108\\1538310046.py:21: FutureWarning: \n",
      "\n",
      "Passing `palette` without assigning `hue` is deprecated and will be removed in v0.14.0. Assign the `x` variable to `hue` and set `legend=False` for the same effect.\n",
      "\n",
      "  sns.barplot(data=df_results, x=\"Model\", y=\"R2 Score\", palette=\"Blues_d\")\n",
      "C:\\Users\\Devendra Garwa\\AppData\\Local\\Temp\\ipykernel_22108\\1538310046.py:27: FutureWarning: \n",
      "\n",
      "Passing `palette` without assigning `hue` is deprecated and will be removed in v0.14.0. Assign the `x` variable to `hue` and set `legend=False` for the same effect.\n",
      "\n",
      "  sns.barplot(data=df_results, x=\"Model\", y=\"RMSE\", palette=\"Oranges_d\")\n",
      "C:\\Users\\Devendra Garwa\\AppData\\Local\\Temp\\ipykernel_22108\\1538310046.py:32: FutureWarning: \n",
      "\n",
      "Passing `palette` without assigning `hue` is deprecated and will be removed in v0.14.0. Assign the `x` variable to `hue` and set `legend=False` for the same effect.\n",
      "\n",
      "  sns.barplot(data=df_results, x=\"Model\", y=\"MAE\", palette=\"Greens_d\")\n"
     ]
    },
    {
     "data": {
      "image/png": "[encoded data removed]",
      "text/plain": [
       "<Figure size 1400x500 with 3 Axes>"
      ]
     },
     "metadata": {},
     "output_type": "display_data"
    }
   ],
   "source": [
    "import matplotlib.pyplot as plt\n",
    "import seaborn as sns\n",
    "import pandas as pd\n",
    "\n",
    "# Model evaluation results\n",
    "results = [\n",
    "    {\"Model\": \"Ridge Regression\", \"R2 Score\": 0.4282, \"RMSE\": 0.7046, \"MAE\": 0.2100},\n",
    "    {\"Model\": \"Lasso Regression\", \"R2 Score\": 0.3832, \"RMSE\": 0.7318, \"MAE\": 0.2204},\n",
    "    {\"Model\": \"ElasticNet Regression\", \"R2 Score\": 0.4006, \"RMSE\": 0.7214, \"MAE\": 0.2143}\n",
    "]\n",
    "\n",
    "# Convert to DataFrame\n",
    "df_results = pd.DataFrame(results)\n",
    "\n",
    "# Set plot style\n",
    "sns.set(style=\"whitegrid\")\n",
    "plt.figure(figsize=(14, 5))\n",
    "\n",
    "# Plot R²\n",
    "plt.subplot(1, 3, 1)\n",
    "sns.barplot(data=df_results, x=\"Model\", y=\"R2 Score\", palette=\"Blues_d\")\n",
    "plt.title(\"R² Score Comparison\")\n",
    "plt.ylim(0, 1)\n",
    "\n",
    "# Plot RMSE\n",
    "plt.subplot(1, 3, 2)\n",
    "sns.barplot(data=df_results, x=\"Model\", y=\"RMSE\", palette=\"Oranges_d\")\n",
    "plt.title(\"RMSE Comparison\")\n",
    "\n",
    "# Plot MAE\n",
    "plt.subplot(1, 3, 3)\n",
    "sns.barplot(data=df_results, x=\"Model\", y=\"MAE\", palette=\"Greens_d\")\n",
    "plt.title(\"MAE Comparison\")\n",
    "\n",
    "plt.tight_layout()\n",
    "plt.show()\n"
   ]
  }
 ],
 "metadata": {
  "kernelspec": {
   "display_name": "Python 3",
   "language": "python",
   "name": "python3"
  },
  "language_info": {
   "codemirror_mode": {
    "name": "ipython",
    "version": 3
   },
   "file_extension": ".py",
   "mimetype": "text/x-python",
   "name": "python",
   "nbconvert_exporter": "python",
   "pygments_lexer": "ipython3",
   "version": "3.13.3"
  }
 },
 "nbformat": 4,
 "nbformat_minor": 5
}
