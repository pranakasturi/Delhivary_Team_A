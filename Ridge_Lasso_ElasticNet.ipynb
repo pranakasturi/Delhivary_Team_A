{
  "nbformat": 4,
  "nbformat_minor": 0,
  "metadata": {
    "colab": {
      "provenance": []
    },
    "kernelspec": {
      "name": "python3",
      "display_name": "Python 3"
    },
    "language_info": {
      "name": "python"
    }
  },
  "cells": [
    {
      "cell_type": "code",
      "execution_count": 139,
      "metadata": {
        "colab": {
          "base_uri": "https://localhost:8080/"
        },
        "id": "PrVwZonXc3nG",
        "outputId": "2149c3ff-ebb3-485c-f883-2c39cab99a52"
      },
      "outputs": [
        {
          "output_type": "stream",
          "name": "stdout",
          "text": [
            "Drive already mounted at /content/drive; to attempt to forcibly remount, call drive.mount(\"/content/drive\", force_remount=True).\n"
          ]
        }
      ],
      "source": [
        "from google.colab import drive\n",
        "drive.mount('/content/drive')"
      ]
    },
    {
      "cell_type": "code",
      "source": [
        "import pandas as pd\n",
        "import numpy as np\n",
        "from sklearn.linear_model import RidgeCV\n",
        "from sklearn.model_selection import train_test_split\n",
        "from sklearn.preprocessing import StandardScaler\n",
        "from sklearn.metrics import mean_squared_error, mean_absolute_error\n",
        "from sklearn.preprocessing import LabelEncoder # Import LabelEncoder\n"
      ],
      "metadata": {
        "id": "lEhEZl9Pc8WJ"
      },
      "execution_count": 140,
      "outputs": []
    },
    {
      "cell_type": "code",
      "source": [
        "# Load your dataset\n",
        "df = pd.read_csv('/content/drive/MyDrive/finaldata.csv')"
      ],
      "metadata": {
        "id": "uZPNtXtaf5E2"
      },
      "execution_count": 141,
      "outputs": []
    },
    {
      "cell_type": "code",
      "source": [
        "df.head(3)"
      ],
      "metadata": {
        "colab": {
          "base_uri": "https://localhost:8080/",
          "height": 193
        },
        "id": "20UYTZIKzTBc",
        "outputId": "fab0cc4c-bc26-436d-8ec0-6712447668dc"
      },
      "execution_count": 142,
      "outputs": [
        {
          "output_type": "execute_result",
          "data": {
            "text/plain": [
              "       data route_type source_center destination_center  \\\n",
              "0  training    Carting  IND388121AAA       IND388620AAB   \n",
              "1  training    Carting  IND388121AAA       IND388620AAB   \n",
              "2  training    Carting  IND388121AAA       IND388620AAB   \n",
              "\n",
              "   start_scan_to_end_scan  is_cutoff  actual_time  osrm_time    factor  \\\n",
              "0                    86.0       True         14.0       11.0  1.272727   \n",
              "1                    86.0       True         24.0       20.0  1.200000   \n",
              "2                    86.0       True         40.0       28.0  1.428571   \n",
              "\n",
              "   segment_actual_time  ...  creation_weekday  creation_month  start_hour  \\\n",
              "0                 14.0  ...                 3               9           3   \n",
              "1                 10.0  ...                 3               9           3   \n",
              "2                 16.0  ...                 3               9           3   \n",
              "\n",
              "   start_weekday  start_month  actual_vs_osrm_time_ratio  \\\n",
              "0              3            9                   1.272612   \n",
              "1              3            9                   1.199940   \n",
              "2              3            9                   1.428520   \n",
              "\n",
              "   segment_actual_vs_osrm_ratio  delivery_efficiency  \\\n",
              "0                      1.272612             0.127905   \n",
              "1                      1.110988             0.232555   \n",
              "2                      2.285388             0.325578   \n",
              "\n",
              "   avg_segment_actual_time_by_route  avg_segment_osrm_time_by_route  \n",
              "0                         24.507724                       10.550283  \n",
              "1                         24.507724                       10.550283  \n",
              "2                         24.507724                       10.550283  \n",
              "\n",
              "[3 rows x 23 columns]"
            ],
            "text/html": [
              "\n",
              "  <div id=\"df-ef4db88c-0614-4e05-af7e-23e0eacd5639\" class=\"colab-df-container\">\n",
              "    <div>\n",
              "<style scoped>\n",
              "    .dataframe tbody tr th:only-of-type {\n",
              "        vertical-align: middle;\n",
              "    }\n",
              "\n",
              "    .dataframe tbody tr th {\n",
              "        vertical-align: top;\n",
              "    }\n",
              "\n",
              "    .dataframe thead th {\n",
              "        text-align: right;\n",
              "    }\n",
              "</style>\n",
              "<table border=\"1\" class=\"dataframe\">\n",
              "  <thead>\n",
              "    <tr style=\"text-align: right;\">\n",
              "      <th></th>\n",
              "      <th>data</th>\n",
              "      <th>route_type</th>\n",
              "      <th>source_center</th>\n",
              "      <th>destination_center</th>\n",
              "      <th>start_scan_to_end_scan</th>\n",
              "      <th>is_cutoff</th>\n",
              "      <th>actual_time</th>\n",
              "      <th>osrm_time</th>\n",
              "      <th>factor</th>\n",
              "      <th>segment_actual_time</th>\n",
              "      <th>...</th>\n",
              "      <th>creation_weekday</th>\n",
              "      <th>creation_month</th>\n",
              "      <th>start_hour</th>\n",
              "      <th>start_weekday</th>\n",
              "      <th>start_month</th>\n",
              "      <th>actual_vs_osrm_time_ratio</th>\n",
              "      <th>segment_actual_vs_osrm_ratio</th>\n",
              "      <th>delivery_efficiency</th>\n",
              "      <th>avg_segment_actual_time_by_route</th>\n",
              "      <th>avg_segment_osrm_time_by_route</th>\n",
              "    </tr>\n",
              "  </thead>\n",
              "  <tbody>\n",
              "    <tr>\n",
              "      <th>0</th>\n",
              "      <td>training</td>\n",
              "      <td>Carting</td>\n",
              "      <td>IND388121AAA</td>\n",
              "      <td>IND388620AAB</td>\n",
              "      <td>86.0</td>\n",
              "      <td>True</td>\n",
              "      <td>14.0</td>\n",
              "      <td>11.0</td>\n",
              "      <td>1.272727</td>\n",
              "      <td>14.0</td>\n",
              "      <td>...</td>\n",
              "      <td>3</td>\n",
              "      <td>9</td>\n",
              "      <td>3</td>\n",
              "      <td>3</td>\n",
              "      <td>9</td>\n",
              "      <td>1.272612</td>\n",
              "      <td>1.272612</td>\n",
              "      <td>0.127905</td>\n",
              "      <td>24.507724</td>\n",
              "      <td>10.550283</td>\n",
              "    </tr>\n",
              "    <tr>\n",
              "      <th>1</th>\n",
              "      <td>training</td>\n",
              "      <td>Carting</td>\n",
              "      <td>IND388121AAA</td>\n",
              "      <td>IND388620AAB</td>\n",
              "      <td>86.0</td>\n",
              "      <td>True</td>\n",
              "      <td>24.0</td>\n",
              "      <td>20.0</td>\n",
              "      <td>1.200000</td>\n",
              "      <td>10.0</td>\n",
              "      <td>...</td>\n",
              "      <td>3</td>\n",
              "      <td>9</td>\n",
              "      <td>3</td>\n",
              "      <td>3</td>\n",
              "      <td>9</td>\n",
              "      <td>1.199940</td>\n",
              "      <td>1.110988</td>\n",
              "      <td>0.232555</td>\n",
              "      <td>24.507724</td>\n",
              "      <td>10.550283</td>\n",
              "    </tr>\n",
              "    <tr>\n",
              "      <th>2</th>\n",
              "      <td>training</td>\n",
              "      <td>Carting</td>\n",
              "      <td>IND388121AAA</td>\n",
              "      <td>IND388620AAB</td>\n",
              "      <td>86.0</td>\n",
              "      <td>True</td>\n",
              "      <td>40.0</td>\n",
              "      <td>28.0</td>\n",
              "      <td>1.428571</td>\n",
              "      <td>16.0</td>\n",
              "      <td>...</td>\n",
              "      <td>3</td>\n",
              "      <td>9</td>\n",
              "      <td>3</td>\n",
              "      <td>3</td>\n",
              "      <td>9</td>\n",
              "      <td>1.428520</td>\n",
              "      <td>2.285388</td>\n",
              "      <td>0.325578</td>\n",
              "      <td>24.507724</td>\n",
              "      <td>10.550283</td>\n",
              "    </tr>\n",
              "  </tbody>\n",
              "</table>\n",
              "<p>3 rows × 23 columns</p>\n",
              "</div>\n",
              "    <div class=\"colab-df-buttons\">\n",
              "\n",
              "  <div class=\"colab-df-container\">\n",
              "    <button class=\"colab-df-convert\" onclick=\"convertToInteractive('df-ef4db88c-0614-4e05-af7e-23e0eacd5639')\"\n",
              "            title=\"Convert this dataframe to an interactive table.\"\n",
              "            style=\"display:none;\">\n",
              "\n",
              "  <svg xmlns=\"http://www.w3.org/2000/svg\" height=\"24px\" viewBox=\"0 -960 960 960\">\n",
              "    <path d=\"M120-120v-720h720v720H120Zm60-500h600v-160H180v160Zm220 220h160v-160H400v160Zm0 220h160v-160H400v160ZM180-400h160v-160H180v160Zm440 0h160v-160H620v160ZM180-180h160v-160H180v160Zm440 0h160v-160H620v160Z\"/>\n",
              "  </svg>\n",
              "    </button>\n",
              "\n",
              "  <style>\n",
              "    .colab-df-container {\n",
              "      display:flex;\n",
              "      gap: 12px;\n",
              "    }\n",
              "\n",
              "    .colab-df-convert {\n",
              "      background-color: #E8F0FE;\n",
              "      border: none;\n",
              "      border-radius: 50%;\n",
              "      cursor: pointer;\n",
              "      display: none;\n",
              "      fill: #1967D2;\n",
              "      height: 32px;\n",
              "      padding: 0 0 0 0;\n",
              "      width: 32px;\n",
              "    }\n",
              "\n",
              "    .colab-df-convert:hover {\n",
              "      background-color: #E2EBFA;\n",
              "      box-shadow: 0px 1px 2px rgba(60, 64, 67, 0.3), 0px 1px 3px 1px rgba(60, 64, 67, 0.15);\n",
              "      fill: #174EA6;\n",
              "    }\n",
              "\n",
              "    .colab-df-buttons div {\n",
              "      margin-bottom: 4px;\n",
              "    }\n",
              "\n",
              "    [theme=dark] .colab-df-convert {\n",
              "      background-color: #3B4455;\n",
              "      fill: #D2E3FC;\n",
              "    }\n",
              "\n",
              "    [theme=dark] .colab-df-convert:hover {\n",
              "      background-color: #434B5C;\n",
              "      box-shadow: 0px 1px 3px 1px rgba(0, 0, 0, 0.15);\n",
              "      filter: drop-shadow(0px 1px 2px rgba(0, 0, 0, 0.3));\n",
              "      fill: #FFFFFF;\n",
              "    }\n",
              "  </style>\n",
              "\n",
              "    <script>\n",
              "      const buttonEl =\n",
              "        document.querySelector('#df-ef4db88c-0614-4e05-af7e-23e0eacd5639 button.colab-df-convert');\n",
              "      buttonEl.style.display =\n",
              "        google.colab.kernel.accessAllowed ? 'block' : 'none';\n",
              "\n",
              "      async function convertToInteractive(key) {\n",
              "        const element = document.querySelector('#df-ef4db88c-0614-4e05-af7e-23e0eacd5639');\n",
              "        const dataTable =\n",
              "          await google.colab.kernel.invokeFunction('convertToInteractive',\n",
              "                                                    [key], {});\n",
              "        if (!dataTable) return;\n",
              "\n",
              "        const docLinkHtml = 'Like what you see? Visit the ' +\n",
              "          '<a target=\"_blank\" href=https://colab.research.google.com/notebooks/data_table.ipynb>data table notebook</a>'\n",
              "          + ' to learn more about interactive tables.';\n",
              "        element.innerHTML = '';\n",
              "        dataTable['output_type'] = 'display_data';\n",
              "        await google.colab.output.renderOutput(dataTable, element);\n",
              "        const docLink = document.createElement('div');\n",
              "        docLink.innerHTML = docLinkHtml;\n",
              "        element.appendChild(docLink);\n",
              "      }\n",
              "    </script>\n",
              "  </div>\n",
              "\n",
              "\n",
              "    <div id=\"df-b6abc004-5f64-4c25-8714-4f54f8a80560\">\n",
              "      <button class=\"colab-df-quickchart\" onclick=\"quickchart('df-b6abc004-5f64-4c25-8714-4f54f8a80560')\"\n",
              "                title=\"Suggest charts\"\n",
              "                style=\"display:none;\">\n",
              "\n",
              "<svg xmlns=\"http://www.w3.org/2000/svg\" height=\"24px\"viewBox=\"0 0 24 24\"\n",
              "     width=\"24px\">\n",
              "    <g>\n",
              "        <path d=\"M19 3H5c-1.1 0-2 .9-2 2v14c0 1.1.9 2 2 2h14c1.1 0 2-.9 2-2V5c0-1.1-.9-2-2-2zM9 17H7v-7h2v7zm4 0h-2V7h2v10zm4 0h-2v-4h2v4z\"/>\n",
              "    </g>\n",
              "</svg>\n",
              "      </button>\n",
              "\n",
              "<style>\n",
              "  .colab-df-quickchart {\n",
              "      --bg-color: #E8F0FE;\n",
              "      --fill-color: #1967D2;\n",
              "      --hover-bg-color: #E2EBFA;\n",
              "      --hover-fill-color: #174EA6;\n",
              "      --disabled-fill-color: #AAA;\n",
              "      --disabled-bg-color: #DDD;\n",
              "  }\n",
              "\n",
              "  [theme=dark] .colab-df-quickchart {\n",
              "      --bg-color: #3B4455;\n",
              "      --fill-color: #D2E3FC;\n",
              "      --hover-bg-color: #434B5C;\n",
              "      --hover-fill-color: #FFFFFF;\n",
              "      --disabled-bg-color: #3B4455;\n",
              "      --disabled-fill-color: #666;\n",
              "  }\n",
              "\n",
              "  .colab-df-quickchart {\n",
              "    background-color: var(--bg-color);\n",
              "    border: none;\n",
              "    border-radius: 50%;\n",
              "    cursor: pointer;\n",
              "    display: none;\n",
              "    fill: var(--fill-color);\n",
              "    height: 32px;\n",
              "    padding: 0;\n",
              "    width: 32px;\n",
              "  }\n",
              "\n",
              "  .colab-df-quickchart:hover {\n",
              "    background-color: var(--hover-bg-color);\n",
              "    box-shadow: 0 1px 2px rgba(60, 64, 67, 0.3), 0 1px 3px 1px rgba(60, 64, 67, 0.15);\n",
              "    fill: var(--button-hover-fill-color);\n",
              "  }\n",
              "\n",
              "  .colab-df-quickchart-complete:disabled,\n",
              "  .colab-df-quickchart-complete:disabled:hover {\n",
              "    background-color: var(--disabled-bg-color);\n",
              "    fill: var(--disabled-fill-color);\n",
              "    box-shadow: none;\n",
              "  }\n",
              "\n",
              "  .colab-df-spinner {\n",
              "    border: 2px solid var(--fill-color);\n",
              "    border-color: transparent;\n",
              "    border-bottom-color: var(--fill-color);\n",
              "    animation:\n",
              "      spin 1s steps(1) infinite;\n",
              "  }\n",
              "\n",
              "  @keyframes spin {\n",
              "    0% {\n",
              "      border-color: transparent;\n",
              "      border-bottom-color: var(--fill-color);\n",
              "      border-left-color: var(--fill-color);\n",
              "    }\n",
              "    20% {\n",
              "      border-color: transparent;\n",
              "      border-left-color: var(--fill-color);\n",
              "      border-top-color: var(--fill-color);\n",
              "    }\n",
              "    30% {\n",
              "      border-color: transparent;\n",
              "      border-left-color: var(--fill-color);\n",
              "      border-top-color: var(--fill-color);\n",
              "      border-right-color: var(--fill-color);\n",
              "    }\n",
              "    40% {\n",
              "      border-color: transparent;\n",
              "      border-right-color: var(--fill-color);\n",
              "      border-top-color: var(--fill-color);\n",
              "    }\n",
              "    60% {\n",
              "      border-color: transparent;\n",
              "      border-right-color: var(--fill-color);\n",
              "    }\n",
              "    80% {\n",
              "      border-color: transparent;\n",
              "      border-right-color: var(--fill-color);\n",
              "      border-bottom-color: var(--fill-color);\n",
              "    }\n",
              "    90% {\n",
              "      border-color: transparent;\n",
              "      border-bottom-color: var(--fill-color);\n",
              "    }\n",
              "  }\n",
              "</style>\n",
              "\n",
              "      <script>\n",
              "        async function quickchart(key) {\n",
              "          const quickchartButtonEl =\n",
              "            document.querySelector('#' + key + ' button');\n",
              "          quickchartButtonEl.disabled = true;  // To prevent multiple clicks.\n",
              "          quickchartButtonEl.classList.add('colab-df-spinner');\n",
              "          try {\n",
              "            const charts = await google.colab.kernel.invokeFunction(\n",
              "                'suggestCharts', [key], {});\n",
              "          } catch (error) {\n",
              "            console.error('Error during call to suggestCharts:', error);\n",
              "          }\n",
              "          quickchartButtonEl.classList.remove('colab-df-spinner');\n",
              "          quickchartButtonEl.classList.add('colab-df-quickchart-complete');\n",
              "        }\n",
              "        (() => {\n",
              "          let quickchartButtonEl =\n",
              "            document.querySelector('#df-b6abc004-5f64-4c25-8714-4f54f8a80560 button');\n",
              "          quickchartButtonEl.style.display =\n",
              "            google.colab.kernel.accessAllowed ? 'block' : 'none';\n",
              "        })();\n",
              "      </script>\n",
              "    </div>\n",
              "\n",
              "    </div>\n",
              "  </div>\n"
            ],
            "application/vnd.google.colaboratory.intrinsic+json": {
              "type": "dataframe",
              "variable_name": "df"
            }
          },
          "metadata": {},
          "execution_count": 142
        }
      ]
    },
    {
      "cell_type": "code",
      "source": [
        "# Step 2: Label encode the required columns\n",
        "\n",
        "label_cols = ['data', 'is_cutoff','route_type']\n",
        "\n",
        "# Apply label encoding\n",
        "le = LabelEncoder()\n",
        "for col in label_cols:\n",
        "    df[col] = le.fit_transform(df[col])"
      ],
      "metadata": {
        "id": "MFS-vSAWg5MN"
      },
      "execution_count": 143,
      "outputs": []
    },
    {
      "cell_type": "code",
      "source": [
        "#colum list\n",
        "df.columns"
      ],
      "metadata": {
        "id": "6uK80mcg0d2m",
        "colab": {
          "base_uri": "https://localhost:8080/"
        },
        "outputId": "bafa23a0-26e5-4bdb-eebb-483e98f06ae0"
      },
      "execution_count": 144,
      "outputs": [
        {
          "output_type": "execute_result",
          "data": {
            "text/plain": [
              "Index(['data', 'route_type', 'source_center', 'destination_center',\n",
              "       'start_scan_to_end_scan', 'is_cutoff', 'actual_time', 'osrm_time',\n",
              "       'factor', 'segment_actual_time', 'segment_osrm_time', 'segment_factor',\n",
              "       'creation_hour', 'creation_weekday', 'creation_month', 'start_hour',\n",
              "       'start_weekday', 'start_month', 'actual_vs_osrm_time_ratio',\n",
              "       'segment_actual_vs_osrm_ratio', 'delivery_efficiency',\n",
              "       'avg_segment_actual_time_by_route', 'avg_segment_osrm_time_by_route'],\n",
              "      dtype='object')"
            ]
          },
          "metadata": {},
          "execution_count": 144
        }
      ]
    },
    {
      "cell_type": "code",
      "source": [
        "le_source = LabelEncoder()\n",
        "le_dest = LabelEncoder()\n",
        "\n",
        "df['source_center'] = le_source.fit_transform(df['source_center'])\n",
        "df['destination_center'] = le_dest.fit_transform(df['destination_center'])\n",
        "\n"
      ],
      "metadata": {
        "id": "C-CCKEKIncxR"
      },
      "execution_count": 145,
      "outputs": []
    },
    {
      "cell_type": "code",
      "source": [
        "df.shape"
      ],
      "metadata": {
        "colab": {
          "base_uri": "https://localhost:8080/"
        },
        "id": "dJPPWxURIWBB",
        "outputId": "a86cc0e0-e8e6-4280-c94c-895832b606dc"
      },
      "execution_count": 146,
      "outputs": [
        {
          "output_type": "execute_result",
          "data": {
            "text/plain": [
              "(144316, 23)"
            ]
          },
          "metadata": {},
          "execution_count": 146
        }
      ]
    },
    {
      "cell_type": "code",
      "source": [
        "df.head(3)"
      ],
      "metadata": {
        "colab": {
          "base_uri": "https://localhost:8080/",
          "height": 193
        },
        "id": "xJBJq9EjpZHf",
        "outputId": "cd7b5042-2259-47b2-ace1-3e67972b6d81"
      },
      "execution_count": 147,
      "outputs": [
        {
          "output_type": "execute_result",
          "data": {
            "text/plain": [
              "   data  route_type  source_center  destination_center  \\\n",
              "0     1           0            492                 486   \n",
              "1     1           0            492                 486   \n",
              "2     1           0            492                 486   \n",
              "\n",
              "   start_scan_to_end_scan  is_cutoff  actual_time  osrm_time    factor  \\\n",
              "0                    86.0          1         14.0       11.0  1.272727   \n",
              "1                    86.0          1         24.0       20.0  1.200000   \n",
              "2                    86.0          1         40.0       28.0  1.428571   \n",
              "\n",
              "   segment_actual_time  ...  creation_weekday  creation_month  start_hour  \\\n",
              "0                 14.0  ...                 3               9           3   \n",
              "1                 10.0  ...                 3               9           3   \n",
              "2                 16.0  ...                 3               9           3   \n",
              "\n",
              "   start_weekday  start_month  actual_vs_osrm_time_ratio  \\\n",
              "0              3            9                   1.272612   \n",
              "1              3            9                   1.199940   \n",
              "2              3            9                   1.428520   \n",
              "\n",
              "   segment_actual_vs_osrm_ratio  delivery_efficiency  \\\n",
              "0                      1.272612             0.127905   \n",
              "1                      1.110988             0.232555   \n",
              "2                      2.285388             0.325578   \n",
              "\n",
              "   avg_segment_actual_time_by_route  avg_segment_osrm_time_by_route  \n",
              "0                         24.507724                       10.550283  \n",
              "1                         24.507724                       10.550283  \n",
              "2                         24.507724                       10.550283  \n",
              "\n",
              "[3 rows x 23 columns]"
            ],
            "text/html": [
              "\n",
              "  <div id=\"df-11e1ab00-264c-4131-b20d-f30c6d7d5fa5\" class=\"colab-df-container\">\n",
              "    <div>\n",
              "<style scoped>\n",
              "    .dataframe tbody tr th:only-of-type {\n",
              "        vertical-align: middle;\n",
              "    }\n",
              "\n",
              "    .dataframe tbody tr th {\n",
              "        vertical-align: top;\n",
              "    }\n",
              "\n",
              "    .dataframe thead th {\n",
              "        text-align: right;\n",
              "    }\n",
              "</style>\n",
              "<table border=\"1\" class=\"dataframe\">\n",
              "  <thead>\n",
              "    <tr style=\"text-align: right;\">\n",
              "      <th></th>\n",
              "      <th>data</th>\n",
              "      <th>route_type</th>\n",
              "      <th>source_center</th>\n",
              "      <th>destination_center</th>\n",
              "      <th>start_scan_to_end_scan</th>\n",
              "      <th>is_cutoff</th>\n",
              "      <th>actual_time</th>\n",
              "      <th>osrm_time</th>\n",
              "      <th>factor</th>\n",
              "      <th>segment_actual_time</th>\n",
              "      <th>...</th>\n",
              "      <th>creation_weekday</th>\n",
              "      <th>creation_month</th>\n",
              "      <th>start_hour</th>\n",
              "      <th>start_weekday</th>\n",
              "      <th>start_month</th>\n",
              "      <th>actual_vs_osrm_time_ratio</th>\n",
              "      <th>segment_actual_vs_osrm_ratio</th>\n",
              "      <th>delivery_efficiency</th>\n",
              "      <th>avg_segment_actual_time_by_route</th>\n",
              "      <th>avg_segment_osrm_time_by_route</th>\n",
              "    </tr>\n",
              "  </thead>\n",
              "  <tbody>\n",
              "    <tr>\n",
              "      <th>0</th>\n",
              "      <td>1</td>\n",
              "      <td>0</td>\n",
              "      <td>492</td>\n",
              "      <td>486</td>\n",
              "      <td>86.0</td>\n",
              "      <td>1</td>\n",
              "      <td>14.0</td>\n",
              "      <td>11.0</td>\n",
              "      <td>1.272727</td>\n",
              "      <td>14.0</td>\n",
              "      <td>...</td>\n",
              "      <td>3</td>\n",
              "      <td>9</td>\n",
              "      <td>3</td>\n",
              "      <td>3</td>\n",
              "      <td>9</td>\n",
              "      <td>1.272612</td>\n",
              "      <td>1.272612</td>\n",
              "      <td>0.127905</td>\n",
              "      <td>24.507724</td>\n",
              "      <td>10.550283</td>\n",
              "    </tr>\n",
              "    <tr>\n",
              "      <th>1</th>\n",
              "      <td>1</td>\n",
              "      <td>0</td>\n",
              "      <td>492</td>\n",
              "      <td>486</td>\n",
              "      <td>86.0</td>\n",
              "      <td>1</td>\n",
              "      <td>24.0</td>\n",
              "      <td>20.0</td>\n",
              "      <td>1.200000</td>\n",
              "      <td>10.0</td>\n",
              "      <td>...</td>\n",
              "      <td>3</td>\n",
              "      <td>9</td>\n",
              "      <td>3</td>\n",
              "      <td>3</td>\n",
              "      <td>9</td>\n",
              "      <td>1.199940</td>\n",
              "      <td>1.110988</td>\n",
              "      <td>0.232555</td>\n",
              "      <td>24.507724</td>\n",
              "      <td>10.550283</td>\n",
              "    </tr>\n",
              "    <tr>\n",
              "      <th>2</th>\n",
              "      <td>1</td>\n",
              "      <td>0</td>\n",
              "      <td>492</td>\n",
              "      <td>486</td>\n",
              "      <td>86.0</td>\n",
              "      <td>1</td>\n",
              "      <td>40.0</td>\n",
              "      <td>28.0</td>\n",
              "      <td>1.428571</td>\n",
              "      <td>16.0</td>\n",
              "      <td>...</td>\n",
              "      <td>3</td>\n",
              "      <td>9</td>\n",
              "      <td>3</td>\n",
              "      <td>3</td>\n",
              "      <td>9</td>\n",
              "      <td>1.428520</td>\n",
              "      <td>2.285388</td>\n",
              "      <td>0.325578</td>\n",
              "      <td>24.507724</td>\n",
              "      <td>10.550283</td>\n",
              "    </tr>\n",
              "  </tbody>\n",
              "</table>\n",
              "<p>3 rows × 23 columns</p>\n",
              "</div>\n",
              "    <div class=\"colab-df-buttons\">\n",
              "\n",
              "  <div class=\"colab-df-container\">\n",
              "    <button class=\"colab-df-convert\" onclick=\"convertToInteractive('df-11e1ab00-264c-4131-b20d-f30c6d7d5fa5')\"\n",
              "            title=\"Convert this dataframe to an interactive table.\"\n",
              "            style=\"display:none;\">\n",
              "\n",
              "  <svg xmlns=\"http://www.w3.org/2000/svg\" height=\"24px\" viewBox=\"0 -960 960 960\">\n",
              "    <path d=\"M120-120v-720h720v720H120Zm60-500h600v-160H180v160Zm220 220h160v-160H400v160Zm0 220h160v-160H400v160ZM180-400h160v-160H180v160Zm440 0h160v-160H620v160ZM180-180h160v-160H180v160Zm440 0h160v-160H620v160Z\"/>\n",
              "  </svg>\n",
              "    </button>\n",
              "\n",
              "  <style>\n",
              "    .colab-df-container {\n",
              "      display:flex;\n",
              "      gap: 12px;\n",
              "    }\n",
              "\n",
              "    .colab-df-convert {\n",
              "      background-color: #E8F0FE;\n",
              "      border: none;\n",
              "      border-radius: 50%;\n",
              "      cursor: pointer;\n",
              "      display: none;\n",
              "      fill: #1967D2;\n",
              "      height: 32px;\n",
              "      padding: 0 0 0 0;\n",
              "      width: 32px;\n",
              "    }\n",
              "\n",
              "    .colab-df-convert:hover {\n",
              "      background-color: #E2EBFA;\n",
              "      box-shadow: 0px 1px 2px rgba(60, 64, 67, 0.3), 0px 1px 3px 1px rgba(60, 64, 67, 0.15);\n",
              "      fill: #174EA6;\n",
              "    }\n",
              "\n",
              "    .colab-df-buttons div {\n",
              "      margin-bottom: 4px;\n",
              "    }\n",
              "\n",
              "    [theme=dark] .colab-df-convert {\n",
              "      background-color: #3B4455;\n",
              "      fill: #D2E3FC;\n",
              "    }\n",
              "\n",
              "    [theme=dark] .colab-df-convert:hover {\n",
              "      background-color: #434B5C;\n",
              "      box-shadow: 0px 1px 3px 1px rgba(0, 0, 0, 0.15);\n",
              "      filter: drop-shadow(0px 1px 2px rgba(0, 0, 0, 0.3));\n",
              "      fill: #FFFFFF;\n",
              "    }\n",
              "  </style>\n",
              "\n",
              "    <script>\n",
              "      const buttonEl =\n",
              "        document.querySelector('#df-11e1ab00-264c-4131-b20d-f30c6d7d5fa5 button.colab-df-convert');\n",
              "      buttonEl.style.display =\n",
              "        google.colab.kernel.accessAllowed ? 'block' : 'none';\n",
              "\n",
              "      async function convertToInteractive(key) {\n",
              "        const element = document.querySelector('#df-11e1ab00-264c-4131-b20d-f30c6d7d5fa5');\n",
              "        const dataTable =\n",
              "          await google.colab.kernel.invokeFunction('convertToInteractive',\n",
              "                                                    [key], {});\n",
              "        if (!dataTable) return;\n",
              "\n",
              "        const docLinkHtml = 'Like what you see? Visit the ' +\n",
              "          '<a target=\"_blank\" href=https://colab.research.google.com/notebooks/data_table.ipynb>data table notebook</a>'\n",
              "          + ' to learn more about interactive tables.';\n",
              "        element.innerHTML = '';\n",
              "        dataTable['output_type'] = 'display_data';\n",
              "        await google.colab.output.renderOutput(dataTable, element);\n",
              "        const docLink = document.createElement('div');\n",
              "        docLink.innerHTML = docLinkHtml;\n",
              "        element.appendChild(docLink);\n",
              "      }\n",
              "    </script>\n",
              "  </div>\n",
              "\n",
              "\n",
              "    <div id=\"df-d8aad40c-af1b-4adb-966f-062d6d483922\">\n",
              "      <button class=\"colab-df-quickchart\" onclick=\"quickchart('df-d8aad40c-af1b-4adb-966f-062d6d483922')\"\n",
              "                title=\"Suggest charts\"\n",
              "                style=\"display:none;\">\n",
              "\n",
              "<svg xmlns=\"http://www.w3.org/2000/svg\" height=\"24px\"viewBox=\"0 0 24 24\"\n",
              "     width=\"24px\">\n",
              "    <g>\n",
              "        <path d=\"M19 3H5c-1.1 0-2 .9-2 2v14c0 1.1.9 2 2 2h14c1.1 0 2-.9 2-2V5c0-1.1-.9-2-2-2zM9 17H7v-7h2v7zm4 0h-2V7h2v10zm4 0h-2v-4h2v4z\"/>\n",
              "    </g>\n",
              "</svg>\n",
              "      </button>\n",
              "\n",
              "<style>\n",
              "  .colab-df-quickchart {\n",
              "      --bg-color: #E8F0FE;\n",
              "      --fill-color: #1967D2;\n",
              "      --hover-bg-color: #E2EBFA;\n",
              "      --hover-fill-color: #174EA6;\n",
              "      --disabled-fill-color: #AAA;\n",
              "      --disabled-bg-color: #DDD;\n",
              "  }\n",
              "\n",
              "  [theme=dark] .colab-df-quickchart {\n",
              "      --bg-color: #3B4455;\n",
              "      --fill-color: #D2E3FC;\n",
              "      --hover-bg-color: #434B5C;\n",
              "      --hover-fill-color: #FFFFFF;\n",
              "      --disabled-bg-color: #3B4455;\n",
              "      --disabled-fill-color: #666;\n",
              "  }\n",
              "\n",
              "  .colab-df-quickchart {\n",
              "    background-color: var(--bg-color);\n",
              "    border: none;\n",
              "    border-radius: 50%;\n",
              "    cursor: pointer;\n",
              "    display: none;\n",
              "    fill: var(--fill-color);\n",
              "    height: 32px;\n",
              "    padding: 0;\n",
              "    width: 32px;\n",
              "  }\n",
              "\n",
              "  .colab-df-quickchart:hover {\n",
              "    background-color: var(--hover-bg-color);\n",
              "    box-shadow: 0 1px 2px rgba(60, 64, 67, 0.3), 0 1px 3px 1px rgba(60, 64, 67, 0.15);\n",
              "    fill: var(--button-hover-fill-color);\n",
              "  }\n",
              "\n",
              "  .colab-df-quickchart-complete:disabled,\n",
              "  .colab-df-quickchart-complete:disabled:hover {\n",
              "    background-color: var(--disabled-bg-color);\n",
              "    fill: var(--disabled-fill-color);\n",
              "    box-shadow: none;\n",
              "  }\n",
              "\n",
              "  .colab-df-spinner {\n",
              "    border: 2px solid var(--fill-color);\n",
              "    border-color: transparent;\n",
              "    border-bottom-color: var(--fill-color);\n",
              "    animation:\n",
              "      spin 1s steps(1) infinite;\n",
              "  }\n",
              "\n",
              "  @keyframes spin {\n",
              "    0% {\n",
              "      border-color: transparent;\n",
              "      border-bottom-color: var(--fill-color);\n",
              "      border-left-color: var(--fill-color);\n",
              "    }\n",
              "    20% {\n",
              "      border-color: transparent;\n",
              "      border-left-color: var(--fill-color);\n",
              "      border-top-color: var(--fill-color);\n",
              "    }\n",
              "    30% {\n",
              "      border-color: transparent;\n",
              "      border-left-color: var(--fill-color);\n",
              "      border-top-color: var(--fill-color);\n",
              "      border-right-color: var(--fill-color);\n",
              "    }\n",
              "    40% {\n",
              "      border-color: transparent;\n",
              "      border-right-color: var(--fill-color);\n",
              "      border-top-color: var(--fill-color);\n",
              "    }\n",
              "    60% {\n",
              "      border-color: transparent;\n",
              "      border-right-color: var(--fill-color);\n",
              "    }\n",
              "    80% {\n",
              "      border-color: transparent;\n",
              "      border-right-color: var(--fill-color);\n",
              "      border-bottom-color: var(--fill-color);\n",
              "    }\n",
              "    90% {\n",
              "      border-color: transparent;\n",
              "      border-bottom-color: var(--fill-color);\n",
              "    }\n",
              "  }\n",
              "</style>\n",
              "\n",
              "      <script>\n",
              "        async function quickchart(key) {\n",
              "          const quickchartButtonEl =\n",
              "            document.querySelector('#' + key + ' button');\n",
              "          quickchartButtonEl.disabled = true;  // To prevent multiple clicks.\n",
              "          quickchartButtonEl.classList.add('colab-df-spinner');\n",
              "          try {\n",
              "            const charts = await google.colab.kernel.invokeFunction(\n",
              "                'suggestCharts', [key], {});\n",
              "          } catch (error) {\n",
              "            console.error('Error during call to suggestCharts:', error);\n",
              "          }\n",
              "          quickchartButtonEl.classList.remove('colab-df-spinner');\n",
              "          quickchartButtonEl.classList.add('colab-df-quickchart-complete');\n",
              "        }\n",
              "        (() => {\n",
              "          let quickchartButtonEl =\n",
              "            document.querySelector('#df-d8aad40c-af1b-4adb-966f-062d6d483922 button');\n",
              "          quickchartButtonEl.style.display =\n",
              "            google.colab.kernel.accessAllowed ? 'block' : 'none';\n",
              "        })();\n",
              "      </script>\n",
              "    </div>\n",
              "\n",
              "    </div>\n",
              "  </div>\n"
            ],
            "application/vnd.google.colaboratory.intrinsic+json": {
              "type": "dataframe",
              "variable_name": "df"
            }
          },
          "metadata": {},
          "execution_count": 147
        }
      ]
    },
    {
      "cell_type": "code",
      "source": [
        "# Separate features and target\n",
        "X = df.drop(columns=['actual_time'])  # drop the target\n",
        "y = df['actual_time']\n"
      ],
      "metadata": {
        "id": "tNh6vsLWhViS"
      },
      "execution_count": 148,
      "outputs": []
    },
    {
      "cell_type": "code",
      "source": [
        "# Filter train and test data based on 'data' column, then drop 'data' column\n",
        "X_train = X[df['data'] == 1].drop(columns=['data'])\n",
        "X_test = X[df['data'] == 0].drop(columns=['data'])\n",
        "y_train = y[df['data'] == 1]\n",
        "y_test = y[df['data'] == 0]\n",
        "\n",
        "\n"
      ],
      "metadata": {
        "id": "USw5OPGhhnde"
      },
      "execution_count": 149,
      "outputs": []
    },
    {
      "cell_type": "code",
      "source": [
        "# Select only numerical columns\n",
        "X_train_num = X_train.select_dtypes(include=['int64', 'float64'])\n",
        "X_test_num = X_test.select_dtypes(include=['int64', 'float64'])"
      ],
      "metadata": {
        "id": "QDNpBCLsrUyS"
      },
      "execution_count": 150,
      "outputs": []
    },
    {
      "cell_type": "code",
      "source": [
        "from scipy.stats import zscore\n",
        "import numpy as np\n",
        "\n",
        "# Compute Z-scores\n",
        "z_scores = np.abs(zscore(X_train_num))  # X_train_num: only numerical features\n",
        "\n",
        "# Threshold typically used: 3\n",
        "outliers = (z_scores > 3)\n",
        "\n",
        "# Check rows with any outlier values\n",
        "outlier_rows = np.where(outliers.any(axis=1))[0]\n",
        "print(\"Outlier row indices:\", outlier_rows)\n"
      ],
      "metadata": {
        "colab": {
          "base_uri": "https://localhost:8080/"
        },
        "id": "rvuMmnoqqV1U",
        "outputId": "57c1a58d-7063-4904-fa8b-7e99e90a0fdc"
      },
      "execution_count": 151,
      "outputs": [
        {
          "output_type": "stream",
          "name": "stdout",
          "text": [
            "Outlier row indices: [    34    117    123 ... 104594 104613 104631]\n"
          ]
        }
      ]
    },
    {
      "cell_type": "code",
      "source": [
        "# Compute Z-scores\n",
        "z_scores = np.abs(zscore(X_test_num))  # X_train_num: only numerical features\n",
        "\n",
        "# Threshold typically used: 3\n",
        "outliers = (z_scores > 3)\n",
        "\n",
        "# Check rows with any outlier values\n",
        "outlier_rows = np.where(outliers.any(axis=1))[0]\n",
        "print(\"Outlier row indices:\", outlier_rows)\n"
      ],
      "metadata": {
        "colab": {
          "base_uri": "https://localhost:8080/"
        },
        "id": "3U3zjmf6sNud",
        "outputId": "1bab0b2c-ba7b-4200-e379-f95160e8e9ab"
      },
      "execution_count": 152,
      "outputs": [
        {
          "output_type": "stream",
          "name": "stdout",
          "text": [
            "Outlier row indices: [   34    39    47 ... 39681 39682 39683]\n"
          ]
        }
      ]
    },
    {
      "cell_type": "code",
      "source": [
        "# Remove outliers from X and y\n",
        "X_train_cleaned = X_train_num.drop(index=X_train_num.iloc[outlier_rows].index)\n",
        "y_train_cleaned = y_train.drop(index=y_train.iloc[outlier_rows].index)\n",
        "\n",
        "print(f\"Removed {len(outlier_rows)} outliers\")"
      ],
      "metadata": {
        "colab": {
          "base_uri": "https://localhost:8080/"
        },
        "id": "BYWfiln0qnm6",
        "outputId": "b7be2017-8005-45b5-b528-af9620c70626"
      },
      "execution_count": 153,
      "outputs": [
        {
          "output_type": "stream",
          "name": "stdout",
          "text": [
            "Removed 2457 outliers\n"
          ]
        }
      ]
    },
    {
      "cell_type": "code",
      "source": [
        "# Remove outliers from X and y\n",
        "X_test_cleaned = X_test_num.drop(index=X_test_num.iloc[outlier_rows].index)\n",
        "y_test_cleaned = y_test.drop(index=y_test.iloc[outlier_rows].index)\n",
        "\n",
        "print(f\"Removed {len(outlier_rows)} outliers\")"
      ],
      "metadata": {
        "colab": {
          "base_uri": "https://localhost:8080/"
        },
        "id": "rW6xFZY6sSxV",
        "outputId": "fa861a5a-6eed-42c9-f6d8-30e5a835ed9e"
      },
      "execution_count": 154,
      "outputs": [
        {
          "output_type": "stream",
          "name": "stdout",
          "text": [
            "Removed 2457 outliers\n"
          ]
        }
      ]
    },
    {
      "cell_type": "code",
      "source": [
        "df.shape"
      ],
      "metadata": {
        "colab": {
          "base_uri": "https://localhost:8080/"
        },
        "id": "37MG7bb6q9ag",
        "outputId": "5df50bce-ac6a-43b1-e49e-2ef9e0b10c18"
      },
      "execution_count": 155,
      "outputs": [
        {
          "output_type": "execute_result",
          "data": {
            "text/plain": [
              "(144316, 23)"
            ]
          },
          "metadata": {},
          "execution_count": 155
        }
      ]
    },
    {
      "cell_type": "code",
      "source": [
        "# Apply scaling only on numerical columns\n",
        "scaler = StandardScaler()\n",
        "X_train_scaled = scaler.fit_transform(X_train_cleaned)\n",
        "X_test_scaled = scaler.transform(X_test_cleaned)"
      ],
      "metadata": {
        "id": "tAfYKZ5aUwLX"
      },
      "execution_count": 156,
      "outputs": []
    },
    {
      "cell_type": "markdown",
      "source": [
        "# **Ensure Metric Consistency**"
      ],
      "metadata": {
        "id": "v9aMPa4Nk7cf"
      }
    },
    {
      "cell_type": "markdown",
      "source": [
        "#  Standardize Evaluation Pipeline"
      ],
      "metadata": {
        "id": "Psl_3ldzkw_h"
      }
    },
    {
      "cell_type": "code",
      "source": [
        "from sklearn.metrics import mean_squared_error, mean_absolute_error, r2_score\n",
        "\n",
        "\n",
        "def evaluate_model(name, y_true, y_pred, results=[]):\n",
        "    mse = mean_squared_error(y_true, y_pred)\n",
        "    rmse = mse ** 0.5\n",
        "    mae = mean_absolute_error(y_true, y_pred)\n",
        "    r2 = r2_score(y_true, y_pred)\n",
        "\n",
        "    results.append({\n",
        "        'Model': name,\n",
        "        'MSE': round(mse, 2),\n",
        "        'RMSE': round(rmse, 2),\n",
        "        'MAE': round(mae, 2),\n",
        "        'R2': round(r2, 4)\n",
        "    })\n",
        "\n",
        "    return results\n"
      ],
      "metadata": {
        "id": "FyWhK51Gk0a_"
      },
      "execution_count": 162,
      "outputs": []
    },
    {
      "cell_type": "code",
      "source": [
        "from sklearn.linear_model import LassoCV\n",
        "\n",
        "lasso = LassoCV(cv=5, random_state=42)\n",
        "lasso.fit(X_train_scaled, y_train_cleaned)\n",
        "lasso_pred = lasso.predict(X_test_scaled)\n",
        "\n",
        "r2_lasso = lasso.score(X_test_scaled, y_test_cleaned)\n",
        "print(f\"Lasso R²: {r2_lasso:.4f}\")\n"
      ],
      "metadata": {
        "colab": {
          "base_uri": "https://localhost:8080/"
        },
        "id": "TFFZAYIwtnyK",
        "outputId": "c5fee6cd-1d7c-4b59-d0a1-3c0b78118056"
      },
      "execution_count": 163,
      "outputs": [
        {
          "output_type": "stream",
          "name": "stdout",
          "text": [
            "Lasso R²: 0.9712\n"
          ]
        }
      ]
    },
    {
      "cell_type": "code",
      "source": [
        "# Make predictions\n",
        "ridge_pred = ridge.predict(X_test_scaled)\n",
        "\n",
        "# Evaluate the model\n",
        "results = evaluate_model(\"Ridge\", y_test_cleaned, ridge_pred)\n",
        "results = evaluate_model(\"Lasso\", y_test_cleaned, lasso_pred) # Removed as Lasso model is not trained yet"
      ],
      "metadata": {
        "id": "bNXkKx5tlNb9"
      },
      "execution_count": 164,
      "outputs": []
    },
    {
      "cell_type": "markdown",
      "source": [
        "# **Model Enhancement Planning**"
      ],
      "metadata": {
        "id": "ZYB4Z9bFnZSH"
      }
    },
    {
      "cell_type": "markdown",
      "source": [
        "# Model Enhancement Planning"
      ],
      "metadata": {
        "id": "CFE1FKblnhod"
      }
    },
    {
      "cell_type": "code",
      "source": [
        "from sklearn.linear_model import RidgeCV\n",
        "import numpy as np\n",
        "\n",
        "# Define the alpha values (regularization strengths)\n",
        "alphas = np.logspace(-4, 1, 50)\n",
        "\n",
        "# Initialize RidgeCV with 10-fold cross-validation\n",
        "ridge_cv = RidgeCV(alphas=alphas, scoring='neg_mean_squared_error', cv=10)\n",
        "\n",
        "# Fit model on scaled training data\n",
        "ridge_cv.fit(X_train_scaled, y_train_cleaned)\n",
        "\n",
        "# Best alpha from cross-validation\n",
        "print(\"Best alpha for Ridge:\", ridge_cv.alpha_)\n",
        "\n",
        "# Predict on test set\n",
        "ridge_pred = ridge_cv.predict(X_test_scaled)\n",
        "\n",
        "# Evaluate and store results\n",
        "results = evaluate_model(\"Ridge (CV Tuned)\", y_test_cleaned, ridge_pred, results)\n",
        "\n"
      ],
      "metadata": {
        "colab": {
          "base_uri": "https://localhost:8080/"
        },
        "id": "55-Pmj2Bn7GE",
        "outputId": "8a177e6f-3ad0-4c9a-c8ae-ce6cf2db5543"
      },
      "execution_count": 165,
      "outputs": [
        {
          "output_type": "stream",
          "name": "stdout",
          "text": [
            "Best alpha for Ridge: 0.0001\n"
          ]
        }
      ]
    },
    {
      "cell_type": "code",
      "source": [
        "from sklearn.linear_model import LassoCV\n",
        "alphas = np.logspace(-4, 1, 50)\n",
        "# LassoCV will automatically search for the best alpha\n",
        "lasso_cv = LassoCV(alphas=alphas, cv=10, random_state=42)\n",
        "\n",
        "# Fit the model to the training data\n",
        "lasso_cv.fit(X_train_scaled, y_train_cleaned)\n",
        "\n",
        "# Get the best alpha\n",
        "print(\"Best alpha for Lasso:\", lasso_cv.alpha_)\n",
        "\n",
        "# Predict on the test set\n",
        "lasso_pred = lasso_cv.predict(X_test_scaled)\n",
        "\n",
        "# Evaluate and store the results\n",
        "results = evaluate_model(\"Lasso (CV Tuned)\", y_test_cleaned, lasso_pred, results)\n"
      ],
      "metadata": {
        "colab": {
          "base_uri": "https://localhost:8080/"
        },
        "id": "l7QA-4sHoO2L",
        "outputId": "e606a5d0-9169-48d9-93a1-9c86bdac3fac"
      },
      "execution_count": 166,
      "outputs": [
        {
          "output_type": "stream",
          "name": "stdout",
          "text": [
            "Best alpha for Lasso: 0.5963623316594643\n"
          ]
        }
      ]
    },
    {
      "cell_type": "code",
      "source": [
        "import numpy as np\n",
        "from sklearn.linear_model import ElasticNetCV\n",
        "\n",
        "# Define the parameter grid\n",
        "alphas = np.logspace(-4, 1, 50)  # You can adjust the range based on your problem\n",
        "l1_ratios = np.linspace(0.1, 0.9, 9)\n",
        "\n",
        "# Initialize ElasticNetCV\n",
        "elastic_cv = ElasticNetCV(alphas=alphas, l1_ratio=l1_ratios, cv=10, random_state=42)\n",
        "\n",
        "# Fit the model\n",
        "elastic_cv.fit(X_train_scaled, y_train_cleaned)\n",
        "\n",
        "# Predictions\n",
        "elastic_pred = elastic_cv.predict(X_test_scaled)\n",
        "\n",
        "# Print best hyperparameters\n",
        "print(\"Best alpha for ElasticNet:\", elastic_cv.alpha_)\n",
        "print(\"Best l1_ratio for ElasticNet:\", elastic_cv.l1_ratio_)\n",
        "\n",
        "# Evaluate and append to results\n",
        "results = evaluate_model(\"ElasticNet (CV Tuned)\", y_test_cleaned, elastic_pred, results)\n",
        "\n"
      ],
      "metadata": {
        "colab": {
          "base_uri": "https://localhost:8080/"
        },
        "id": "7nBicNJHoaka",
        "outputId": "dd07cb1e-d932-4e79-fbf5-e160e795c29f"
      },
      "execution_count": 167,
      "outputs": [
        {
          "output_type": "stream",
          "name": "stdout",
          "text": [
            "Best alpha for ElasticNet: 0.005428675439323859\n",
            "Best l1_ratio for ElasticNet: 0.9\n"
          ]
        }
      ]
    },
    {
      "cell_type": "code",
      "source": [
        "results_df = pd.DataFrame(results)\n",
        "\n",
        "results_df_cleaned = results_df.drop_duplicates()\n",
        "\n",
        "print(results_df_cleaned)"
      ],
      "metadata": {
        "colab": {
          "base_uri": "https://localhost:8080/"
        },
        "id": "swHRFpinojEa",
        "outputId": "588ab2ba-9005-4881-b32e-01b2c2bc7089"
      },
      "execution_count": 168,
      "outputs": [
        {
          "output_type": "stream",
          "name": "stdout",
          "text": [
            "                   Model      MSE   RMSE    MAE      R2\n",
            "0                  Ridge  8337.40  91.31  46.01  0.9713\n",
            "1                  Lasso  8367.80  91.48  45.35  0.9712\n",
            "2       Ridge (CV Tuned)  8013.62  89.52  45.31  0.9724\n",
            "3       Lasso (CV Tuned)  8360.85  91.44  45.48  0.9712\n",
            "4  ElasticNet (CV Tuned)  8350.80  91.38  46.07  0.9712\n"
          ]
        }
      ]
    }
  ]
}