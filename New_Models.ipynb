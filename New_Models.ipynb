{
  "nbformat": 4,
  "nbformat_minor": 0,
  "metadata": {
    "colab": {
      "provenance": []
    },
    "kernelspec": {
      "name": "python3",
      "display_name": "Python 3"
    },
    "language_info": {
      "name": "python"
    }
  },
  "cells": [
    {
      "cell_type": "code",
      "execution_count": null,
      "metadata": {
        "colab": {
          "base_uri": "https://localhost:8080/"
        },
        "id": "WTvO3gb797Ne",
        "outputId": "7a13befa-3f87-4f59-f0ca-8303445b8824"
      },
      "outputs": [
        {
          "output_type": "stream",
          "name": "stdout",
          "text": [
            "Mounted at /content/drive\n"
          ]
        }
      ],
      "source": [
        "# Mount Google Drive\n",
        "from google.colab import drive\n",
        "drive.mount('/content/drive')"
      ]
    },
    {
      "cell_type": "code",
      "source": [
        "import numpy as np\n",
        "import pandas as pd\n",
        "from sklearn.model_selection import train_test_split\n",
        "from sklearn.preprocessing import StandardScaler\n",
        "from sklearn.metrics import r2_score, mean_squared_error\n",
        "\n",
        "# Load dataset\n",
        "df = pd.read_csv('/content/drive/MyDrive/AI/selected_features_dataset.csv')\n",
        "\n",
        "# Split features and target\n",
        "X = df.drop(columns=[\"actual_time\"])\n",
        "y = df[\"actual_time\"]\n",
        "\n",
        "# Convert categorical columns using One-Hot Encoding\n",
        "X_encoded = pd.get_dummies(X, drop_first=True)  # drop_first=True to avoid dummy variable trap\n",
        "\n",
        "# Train-test split\n",
        "X_train, X_test, y_train, y_test = train_test_split(X_encoded, y, test_size=0.2, random_state=42)\n",
        "\n",
        "# Feature scaling\n",
        "scaler = StandardScaler()\n",
        "X_train_scaled = scaler.fit_transform(X_train)\n",
        "X_test_scaled = scaler.transform(X_test)"
      ],
      "metadata": {
        "id": "dv-bsjWt9_J7"
      },
      "execution_count": null,
      "outputs": []
    },
    {
      "cell_type": "code",
      "source": [],
      "metadata": {
        "id": "13mWSo54qaUq"
      },
      "execution_count": null,
      "outputs": []
    },
    {
      "cell_type": "code",
      "source": [
        "from sklearn.linear_model import LinearRegression\n",
        "\n",
        "lr_model = LinearRegression()\n",
        "lr_model.fit(X_train_scaled, y_train)\n",
        "y_pred_lr = lr_model.predict(X_test_scaled)\n",
        "\n",
        "print(\"🔹 Linear Regression\")\n",
        "print(\"R² Score:\", r2_score(y_test, y_pred_lr))\n",
        "print(\"MSE:\", mean_squared_error(y_test, y_pred_lr))\n"
      ],
      "metadata": {
        "colab": {
          "base_uri": "https://localhost:8080/"
        },
        "id": "Ehnv6Zbl-r_H",
        "outputId": "88119d57-28a8-46a3-97dd-40ef179f7849"
      },
      "execution_count": null,
      "outputs": [
        {
          "output_type": "stream",
          "name": "stdout",
          "text": [
            "🔹 Linear Regression\n",
            "R² Score: 0.9791569061599675\n",
            "MSE: 2.0727412108588994\n"
          ]
        }
      ]
    },
    {
      "cell_type": "code",
      "source": [
        "from sklearn.linear_model import Ridge\n",
        "\n",
        "ridge_model = Ridge(alpha=1.0)  # alpha is the regularization strength\n",
        "ridge_model.fit(X_train_scaled, y_train)\n",
        "y_pred_ridge = ridge_model.predict(X_test_scaled)\n",
        "\n",
        "print(\"\\n🔹 Ridge Regression (L2 Norm)\")\n",
        "print(\"R² Score:\", r2_score(y_test, y_pred_ridge))\n",
        "print(\"MSE:\", mean_squared_error(y_test, y_pred_ridge))\n"
      ],
      "metadata": {
        "colab": {
          "base_uri": "https://localhost:8080/"
        },
        "id": "OuuIaxz_-tfa",
        "outputId": "fc7f95cf-b2d3-4f5c-c8e1-767de6885d81"
      },
      "execution_count": null,
      "outputs": [
        {
          "output_type": "stream",
          "name": "stdout",
          "text": [
            "\n",
            "🔹 Ridge Regression (L2 Norm)\n",
            "R² Score: 0.979144638375706\n",
            "MSE: 2.0739611805140825\n"
          ]
        }
      ]
    },
    {
      "cell_type": "code",
      "source": [
        "from sklearn.svm import LinearSVR\n",
        "\n",
        "svr_model = LinearSVR(epsilon=0.1, max_iter=10000)\n",
        "svr_model.fit(X_train_scaled, y_train)\n",
        "y_pred_svr = svr_model.predict(X_test_scaled)\n",
        "\n",
        "print(\"\\n🔹 Linear SVR\")\n",
        "print(\"R² Score:\", r2_score(y_test, y_pred_svr))\n",
        "print(\"MSE:\", mean_squared_error(y_test, y_pred_svr))\n"
      ],
      "metadata": {
        "colab": {
          "base_uri": "https://localhost:8080/"
        },
        "id": "MMIrVfrt-y_L",
        "outputId": "e9807eb7-f7e7-4915-a8a3-78eeb36fbaae"
      },
      "execution_count": null,
      "outputs": [
        {
          "output_type": "stream",
          "name": "stderr",
          "text": [
            "/usr/local/lib/python3.11/dist-packages/sklearn/svm/_base.py:1249: ConvergenceWarning: Liblinear failed to converge, increase the number of iterations.\n",
            "  warnings.warn(\n"
          ]
        },
        {
          "output_type": "stream",
          "name": "stdout",
          "text": [
            "\n",
            "🔹 Linear SVR\n",
            "R² Score: 0.977161325675294\n",
            "MSE: 2.2711916876410103\n"
          ]
        }
      ]
    },
    {
      "cell_type": "code",
      "source": [
        "from sklearn.ensemble import GradientBoostingRegressor\n",
        "\n",
        "gbr_model = GradientBoostingRegressor(n_estimators=100, learning_rate=0.1, max_depth=3, random_state=42)\n",
        "gbr_model.fit(X_train, y_train)  # Gradient Boosting doesn't need scaled features\n",
        "y_pred_gbr = gbr_model.predict(X_test)\n",
        "\n",
        "print(\"\\n🔹 Gradient Boosted Regression\")\n",
        "print(\"R² Score:\", r2_score(y_test, y_pred_gbr))\n",
        "print(\"MSE:\", mean_squared_error(y_test, y_pred_gbr))\n"
      ],
      "metadata": {
        "colab": {
          "base_uri": "https://localhost:8080/"
        },
        "id": "7hI-T7I0-2QD",
        "outputId": "14ad57f1-8f9d-45e8-b39d-1089af63133f"
      },
      "execution_count": null,
      "outputs": [
        {
          "output_type": "stream",
          "name": "stdout",
          "text": [
            "\n",
            "🔹 Gradient Boosted Regression\n",
            "R² Score: 0.9974376872937933\n",
            "MSE: 0.25480915559000367\n"
          ]
        }
      ]
    },
    {
      "cell_type": "code",
      "source": [
        "results = pd.DataFrame({\n",
        "    \"Model\": [\"Linear Regression\", \"Ridge Regression\", \"Linear SVR\", \"Gradient Boosting\"],\n",
        "    \"R2 Score\": [\n",
        "        r2_score(y_test, y_pred_lr),\n",
        "        r2_score(y_test, y_pred_ridge),\n",
        "        r2_score(y_test, y_pred_svr),\n",
        "        r2_score(y_test, y_pred_gbr)\n",
        "    ],\n",
        "    \"MSE\": [\n",
        "        mean_squared_error(y_test, y_pred_lr),\n",
        "        mean_squared_error(y_test, y_pred_ridge),\n",
        "        mean_squared_error(y_test, y_pred_svr),\n",
        "        mean_squared_error(y_test, y_pred_gbr)\n",
        "    ]\n",
        "})\n",
        "\n",
        "print(\"\\n📊 Model Comparison:\\n\", results)\n"
      ],
      "metadata": {
        "colab": {
          "base_uri": "https://localhost:8080/"
        },
        "id": "c5ddvE2z-5Xr",
        "outputId": "9681e5b2-31fb-4d28-e048-ebf71c3bfa25"
      },
      "execution_count": null,
      "outputs": [
        {
          "output_type": "stream",
          "name": "stdout",
          "text": [
            "\n",
            "📊 Model Comparison:\n",
            "                Model  R2 Score       MSE\n",
            "0  Linear Regression  0.979157  2.072741\n",
            "1   Ridge Regression  0.979145  2.073961\n",
            "2         Linear SVR  0.977161  2.271192\n",
            "3  Gradient Boosting  0.997438  0.254809\n"
          ]
        }
      ]
    }
  ]
}