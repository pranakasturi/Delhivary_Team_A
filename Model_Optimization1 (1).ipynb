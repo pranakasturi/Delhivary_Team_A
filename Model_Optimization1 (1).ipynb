{
  "nbformat": 4,
  "nbformat_minor": 0,
  "metadata": {
    "colab": {
      "provenance": []
    },
    "kernelspec": {
      "name": "python3",
      "display_name": "Python 3"
    },
    "language_info": {
      "name": "python"
    }
  },
  "cells": [
    {
      "cell_type": "code",
      "execution_count": null,
      "metadata": {
        "colab": {
          "base_uri": "https://localhost:8080/"
        },
        "id": "EFX1Hr7UsTRB",
        "outputId": "2734e224-bd0e-4c7b-a651-1a0f6ee8fddb"
      },
      "outputs": [
        {
          "output_type": "stream",
          "name": "stdout",
          "text": [
            "Drive already mounted at /content/drive; to attempt to forcibly remount, call drive.mount(\"/content/drive\", force_remount=True).\n"
          ]
        }
      ],
      "source": [
        "# Mount Google Drive\n",
        "from google.colab import drive\n",
        "drive.mount('/content/drive')"
      ]
    },
    {
      "cell_type": "code",
      "source": [
        "# Step 0: Import libraries\n",
        "import pandas as pd\n",
        "import numpy as np\n",
        "from sklearn.model_selection import train_test_split, GridSearchCV\n",
        "from sklearn.preprocessing import StandardScaler\n",
        "from sklearn.linear_model import Ridge, LinearRegression, Lasso, ElasticNet\n",
        "from sklearn.ensemble import RandomForestRegressor\n",
        "from xgboost import XGBRegressor\n",
        "from sklearn.metrics import mean_absolute_error, mean_squared_error, r2_score"
      ],
      "metadata": {
        "id": "4yTG0mOasrRq"
      },
      "execution_count": null,
      "outputs": []
    },
    {
      "cell_type": "code",
      "source": [
        "# Step 1: Load the feature-engineered dataset\n",
        "df = pd.read_csv('/content/drive/MyDrive/AI/selected_features_dataset.csv')"
      ],
      "metadata": {
        "id": "Dzyz2BQBs4Oa"
      },
      "execution_count": null,
      "outputs": []
    },
    {
      "cell_type": "code",
      "source": [
        "# Step 2: Set target and features\n",
        "target_column = \"actual_time\"\n",
        "X = df.drop(target_column, axis=1)\n",
        "y = df[target_column]"
      ],
      "metadata": {
        "id": "o7M8H3TQtUKK"
      },
      "execution_count": null,
      "outputs": []
    },
    {
      "cell_type": "code",
      "source": [
        "# Step 3: Encode non-numeric features\n",
        "non_numeric_cols = X.select_dtypes(include=[\"object\", \"string\"]).columns\n",
        "for col in non_numeric_cols:\n",
        "    X[col] = X[col].astype(\"category\").cat.codes"
      ],
      "metadata": {
        "id": "nk6M8JhNtCAy"
      },
      "execution_count": null,
      "outputs": []
    },
    {
      "cell_type": "code",
      "source": [
        "# Step 4: Train-test split\n",
        "X_train, X_test, y_train, y_test = train_test_split(\n",
        "    X, y, test_size=0.2, random_state=42\n",
        ")"
      ],
      "metadata": {
        "id": "lJ7fcLijxfZN"
      },
      "execution_count": null,
      "outputs": []
    },
    {
      "cell_type": "code",
      "source": [
        "# Step 5: Scaling\n",
        "scaler = StandardScaler()\n",
        "X_train_scaled = scaler.fit_transform(X_train)\n",
        "X_test_scaled = scaler.transform(X_test)"
      ],
      "metadata": {
        "id": "NfS-NC5qvj7s"
      },
      "execution_count": null,
      "outputs": []
    },
    {
      "cell_type": "code",
      "source": [
        "# Step 6: Relative accuracy function\n",
        "def relative_accuracy(y_true, y_pred, tolerance=0.2):\n",
        "    rel_error = np.abs(y_true - y_pred) / np.abs(y_true)\n",
        "    return np.mean(rel_error <= tolerance) * 100"
      ],
      "metadata": {
        "id": "VoLmOeiFvrcb"
      },
      "execution_count": null,
      "outputs": []
    },
    {
      "cell_type": "code",
      "source": [
        "# Step 7: Evaluation function\n",
        "def evaluate_model(name, y_true, y_pred):\n",
        "    print(f\"\\n===== {name} =====\")\n",
        "    print(\"MAE:\", round(mean_absolute_error(y_true, y_pred), 4))\n",
        "    print(\"MSE:\", round(mean_squared_error(y_true, y_pred), 4))\n",
        "    print(\"RMSE:\", round(np.sqrt(mean_squared_error(y_true, y_pred)), 4))\n",
        "    print(\"R² Score:\", round(r2_score(y_true, y_pred), 4))\n",
        "    print(\"Relative Accuracy (±20%):\", round(relative_accuracy(y_true, y_pred), 2), \"%\")"
      ],
      "metadata": {
        "id": "NIeuNR0txkJE"
      },
      "execution_count": null,
      "outputs": []
    },
    {
      "cell_type": "code",
      "source": [
        "# Step 8: Ridge Regression + Hyperparameter Tuning\n",
        "ridge = Ridge()\n",
        "ridge_params = {'alpha': [0.01, 0.1, 1, 10, 100]}\n",
        "ridge_cv = GridSearchCV(ridge, ridge_params, cv=5, scoring='r2')\n",
        "ridge_cv.fit(X_train_scaled, y_train)\n",
        "y_pred_ridge = ridge_cv.predict(X_test_scaled)\n",
        "evaluate_model(\"Ridge Regression\", y_test, y_pred_ridge)\n",
        "print(\"Best Alpha (λ):\", ridge_cv.best_params_['alpha'])"
      ],
      "metadata": {
        "colab": {
          "base_uri": "https://localhost:8080/"
        },
        "id": "Z05D1J2gvwTj",
        "outputId": "c57d66ea-01b8-444b-effa-37c3a7ba581f"
      },
      "execution_count": null,
      "outputs": [
        {
          "output_type": "stream",
          "name": "stdout",
          "text": [
            "\n",
            "===== Ridge Regression =====\n",
            "MAE: 0.8111\n",
            "MSE: 2.882\n",
            "RMSE: 1.6977\n",
            "R² Score: 0.971\n",
            "Relative Accuracy (±20%): 63.58 %\n",
            "Best Alpha (λ): 0.01\n"
          ]
        }
      ]
    },
    {
      "cell_type": "code",
      "source": [
        "# Step 9: Linear Regression (baseline)\n",
        "lin_reg = LinearRegression()\n",
        "lin_reg.fit(X_train_scaled, y_train)\n",
        "y_pred_lin = lin_reg.predict(X_test_scaled)\n",
        "evaluate_model(\"Linear Regression\", y_test, y_pred_lin)"
      ],
      "metadata": {
        "colab": {
          "base_uri": "https://localhost:8080/"
        },
        "id": "h56sY-Qrv0AD",
        "outputId": "063182f5-4fe4-4caf-a797-233aa0142905"
      },
      "execution_count": null,
      "outputs": [
        {
          "output_type": "stream",
          "name": "stdout",
          "text": [
            "\n",
            "===== Linear Regression =====\n",
            "MAE: 0.8112\n",
            "MSE: 2.882\n",
            "RMSE: 1.6977\n",
            "R² Score: 0.971\n",
            "Relative Accuracy (±20%): 63.57 %\n"
          ]
        }
      ]
    },
    {
      "cell_type": "code",
      "source": [
        "# Step 10: Lasso Regression\n",
        "lasso = Lasso()\n",
        "lasso_cv = GridSearchCV(lasso, {'alpha': [0.01, 0.1, 1, 10]}, cv=5, scoring='r2')\n",
        "lasso_cv.fit(X_train_scaled, y_train)\n",
        "y_pred_lasso = lasso_cv.predict(X_test_scaled)\n",
        "evaluate_model(\"Lasso Regression\", y_test, y_pred_lasso)"
      ],
      "metadata": {
        "colab": {
          "base_uri": "https://localhost:8080/"
        },
        "id": "bQtWRkIKxo48",
        "outputId": "a77ced69-18ec-425c-b652-757c6ec9beb0"
      },
      "execution_count": null,
      "outputs": [
        {
          "output_type": "stream",
          "name": "stdout",
          "text": [
            "\n",
            "===== Lasso Regression =====\n",
            "MAE: 0.8054\n",
            "MSE: 2.9061\n",
            "RMSE: 1.7047\n",
            "R² Score: 0.9708\n",
            "Relative Accuracy (±20%): 64.69 %\n"
          ]
        }
      ]
    },
    {
      "cell_type": "code",
      "source": [
        "# Step 11: ElasticNet Regression\n",
        "enet = ElasticNet()\n",
        "enet_cv = GridSearchCV(\n",
        "    enet,\n",
        "    {'alpha': [0.01, 0.1, 1], 'l1_ratio': [0.2, 0.5, 0.8]},\n",
        "    cv=5,\n",
        "    scoring='r2'\n",
        ")\n",
        "enet_cv.fit(X_train_scaled, y_train)\n",
        "y_pred_enet = enet_cv.predict(X_test_scaled)\n",
        "evaluate_model(\"ElasticNet Regression\", y_test, y_pred_enet)"
      ],
      "metadata": {
        "colab": {
          "base_uri": "https://localhost:8080/"
        },
        "id": "Kw8UfMkJxsF7",
        "outputId": "5328f3ff-06d0-45c2-f424-7b7bb98c0613"
      },
      "execution_count": null,
      "outputs": [
        {
          "output_type": "stream",
          "name": "stdout",
          "text": [
            "\n",
            "===== ElasticNet Regression =====\n",
            "MAE: 0.8122\n",
            "MSE: 2.9226\n",
            "RMSE: 1.7096\n",
            "R² Score: 0.9706\n",
            "Relative Accuracy (±20%): 63.89 %\n"
          ]
        }
      ]
    },
    {
      "cell_type": "code",
      "source": [
        "# Step 12: Random Forest\n",
        "rf = RandomForestRegressor(random_state=42)\n",
        "rf.fit(X_train_scaled, y_train)\n",
        "y_pred_rf = rf.predict(X_test_scaled)\n",
        "evaluate_model(\"Random Forest\", y_test, y_pred_rf)"
      ],
      "metadata": {
        "colab": {
          "base_uri": "https://localhost:8080/"
        },
        "id": "zHVuBIUjxuP9",
        "outputId": "5e296ee5-3d53-4481-dfec-1a260b2d781d"
      },
      "execution_count": null,
      "outputs": [
        {
          "output_type": "stream",
          "name": "stdout",
          "text": [
            "\n",
            "===== Random Forest =====\n",
            "MAE: 0.1407\n",
            "MSE: 0.0911\n",
            "RMSE: 0.3019\n",
            "R² Score: 0.9991\n",
            "Relative Accuracy (±20%): 98.06 %\n"
          ]
        }
      ]
    },
    {
      "cell_type": "code",
      "source": [
        "# Step 13: XGBoost\n",
        "xgb = XGBRegressor(random_state=42)\n",
        "xgb.fit(X_train_scaled, y_train)\n",
        "y_pred_xgb = xgb.predict(X_test_scaled)\n",
        "evaluate_model(\"XGBoost\", y_test, y_pred_xgb)"
      ],
      "metadata": {
        "colab": {
          "base_uri": "https://localhost:8080/"
        },
        "id": "GV7Y6-P5xvw1",
        "outputId": "c6737376-de08-4dae-fe51-be6cace1a83c"
      },
      "execution_count": null,
      "outputs": [
        {
          "output_type": "stream",
          "name": "stdout",
          "text": [
            "\n",
            "===== XGBoost =====\n",
            "MAE: 0.1745\n",
            "MSE: 0.1127\n",
            "RMSE: 0.3357\n",
            "R² Score: 0.9989\n",
            "Relative Accuracy (±20%): 95.67 %\n"
          ]
        }
      ]
    }
  ]
}